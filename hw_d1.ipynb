{
  "nbformat": 4,
  "nbformat_minor": 0,
  "metadata": {
    "colab": {
      "name": "Untitled0.ipynb",
      "provenance": [],
      "authorship_tag": "ABX9TyMIuN3wfBmJUoVxKK2wf2s0",
      "include_colab_link": true
    },
    "kernelspec": {
      "name": "python3",
      "display_name": "Python 3"
    }
  },
  "cells": [
    {
      "cell_type": "markdown",
      "metadata": {
        "id": "view-in-github",
        "colab_type": "text"
      },
      "source": [
        "<a href=\"https://colab.research.google.com/github/callmebalzhan/blog/blob/master/hw_d1.ipynb\" target=\"_parent\"><img src=\"https://colab.research.google.com/assets/colab-badge.svg\" alt=\"Open In Colab\"/></a>"
      ]
    },
    {
      "cell_type": "code",
      "metadata": {
        "id": "xh08PFeidx18",
        "colab_type": "code",
        "colab": {
          "base_uri": "https://localhost:8080/",
          "height": 85
        },
        "outputId": "d656840c-ae96-4159-dc6a-bf02c6fe1a1a"
      },
      "source": [
        "pepsi = 2\n",
        "chocalate = 3\n",
        "cheese = 3.5\n",
        "\n",
        "print(pepsi+chocalate)\n",
        "print(cheese+chocalate-pepsi)\n",
        "print(pepsi+chocalate-cheese)\n",
        "print(pepsi+chocalate+cheese)\n"
      ],
      "execution_count": 3,
      "outputs": [
        {
          "output_type": "stream",
          "text": [
            "5\n",
            "4.5\n",
            "1.5\n",
            "8.5\n"
          ],
          "name": "stdout"
        }
      ]
    },
    {
      "cell_type": "code",
      "metadata": {
        "id": "3wWI7lb0dtTJ",
        "colab_type": "code",
        "colab": {
          "base_uri": "https://localhost:8080/",
          "height": 34
        },
        "outputId": "e29a02e5-7e29-4bba-df0f-c49b08cd91f9"
      },
      "source": [
        "var_int=2\n",
        "var_float=1.5\n",
        "var_str=\"Yes\"\n",
        "var_big=var_int*0.5\n",
        "var_float=var_float-1\n",
        "var_int/var_float\n",
        "var_big/var_float\n",
        "\n"
      ],
      "execution_count": 5,
      "outputs": [
        {
          "output_type": "execute_result",
          "data": {
            "text/plain": [
              "2.0"
            ]
          },
          "metadata": {
            "tags": []
          },
          "execution_count": 5
        }
      ]
    },
    {
      "cell_type": "code",
      "metadata": {
        "id": "FZoXWRXwe6fm",
        "colab_type": "code",
        "colab": {}
      },
      "source": [
        ""
      ],
      "execution_count": 0,
      "outputs": []
    }
  ]
}