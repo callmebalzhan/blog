{
  "nbformat": 4,
  "nbformat_minor": 0,
  "metadata": {
    "colab": {
      "name": "first.ipynb",
      "provenance": [],
      "authorship_tag": "ABX9TyP1FUuupnxgCaZM1DKE5QzS",
      "include_colab_link": true
    },
    "kernelspec": {
      "name": "python3",
      "display_name": "Python 3"
    }
  },
  "cells": [
    {
      "cell_type": "markdown",
      "metadata": {
        "id": "view-in-github",
        "colab_type": "text"
      },
      "source": [
        "<a href=\"https://colab.research.google.com/github/callmebalzhan/blog/blob/master/first.ipynb\" target=\"_parent\"><img src=\"https://colab.research.google.com/assets/colab-badge.svg\" alt=\"Open In Colab\"/></a>"
      ]
    },
    {
      "cell_type": "code",
      "metadata": {
        "id": "yZKk4iSJNrIZ",
        "colab_type": "code",
        "colab": {}
      },
      "source": [
        "# my first line: Hello first."
      ],
      "execution_count": 0,
      "outputs": []
    }
  ]
}